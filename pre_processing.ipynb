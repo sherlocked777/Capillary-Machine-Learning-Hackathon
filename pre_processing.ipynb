{
 "cells": [
  {
   "cell_type": "code",
   "execution_count": 1,
   "metadata": {},
   "outputs": [],
   "source": [
    "import pandas as pd"
   ]
  },
  {
   "cell_type": "code",
   "execution_count": 2,
   "metadata": {},
   "outputs": [],
   "source": [
    "train = pd.read_csv('/home/vishnu/study_stuff/Analytics_vidhya/recommendation_system/train_Capillary_4/train.csv')"
   ]
  },
  {
   "cell_type": "code",
   "execution_count": 3,
   "metadata": {},
   "outputs": [
    {
     "data": {
      "text/html": [
       "<div>\n",
       "<style scoped>\n",
       "    .dataframe tbody tr th:only-of-type {\n",
       "        vertical-align: middle;\n",
       "    }\n",
       "\n",
       "    .dataframe tbody tr th {\n",
       "        vertical-align: top;\n",
       "    }\n",
       "\n",
       "    .dataframe thead th {\n",
       "        text-align: right;\n",
       "    }\n",
       "</style>\n",
       "<table border=\"1\" class=\"dataframe\">\n",
       "  <thead>\n",
       "    <tr style=\"text-align: right;\">\n",
       "      <th></th>\n",
       "      <th>UserId</th>\n",
       "      <th>productid</th>\n",
       "      <th>Quantity</th>\n",
       "      <th>OrderDate</th>\n",
       "    </tr>\n",
       "  </thead>\n",
       "  <tbody>\n",
       "    <tr>\n",
       "      <th>0</th>\n",
       "      <td>18075</td>\n",
       "      <td>12322648</td>\n",
       "      <td>1</td>\n",
       "      <td>01/04/18</td>\n",
       "    </tr>\n",
       "    <tr>\n",
       "      <th>1</th>\n",
       "      <td>6820</td>\n",
       "      <td>12371370</td>\n",
       "      <td>1</td>\n",
       "      <td>01/04/18</td>\n",
       "    </tr>\n",
       "    <tr>\n",
       "      <th>2</th>\n",
       "      <td>6820</td>\n",
       "      <td>12973004</td>\n",
       "      <td>1</td>\n",
       "      <td>01/04/18</td>\n",
       "    </tr>\n",
       "    <tr>\n",
       "      <th>3</th>\n",
       "      <td>6820</td>\n",
       "      <td>12657560</td>\n",
       "      <td>1</td>\n",
       "      <td>01/04/18</td>\n",
       "    </tr>\n",
       "    <tr>\n",
       "      <th>4</th>\n",
       "      <td>6820</td>\n",
       "      <td>11659914</td>\n",
       "      <td>1</td>\n",
       "      <td>01/04/18</td>\n",
       "    </tr>\n",
       "  </tbody>\n",
       "</table>\n",
       "</div>"
      ],
      "text/plain": [
       "   UserId  productid  Quantity OrderDate\n",
       "0   18075   12322648         1  01/04/18\n",
       "1    6820   12371370         1  01/04/18\n",
       "2    6820   12973004         1  01/04/18\n",
       "3    6820   12657560         1  01/04/18\n",
       "4    6820   11659914         1  01/04/18"
      ]
     },
     "execution_count": 3,
     "metadata": {},
     "output_type": "execute_result"
    }
   ],
   "source": [
    "train.head()"
   ]
  },
  {
   "cell_type": "code",
   "execution_count": 4,
   "metadata": {},
   "outputs": [],
   "source": [
    "ff = train.groupby(['UserId', 'productid'], axis = 1)"
   ]
  },
  {
   "cell_type": "code",
   "execution_count": 10,
   "metadata": {},
   "outputs": [],
   "source": [
    "def check_dir_exist(directory):\n",
    "    if not os.path.exists(directory):\n",
    "        os.makedirs(directory)"
   ]
  },
  {
   "cell_type": "code",
   "execution_count": 21,
   "metadata": {},
   "outputs": [],
   "source": [
    "import shutil, os\n",
    "for element in train.UserId.unique():\n",
    "#     print(element)\n",
    "    \n",
    "    products = list(set(train.loc[train['UserId'] == element]['productid']))\n",
    "#     print (element, products)\n",
    "#     prints()\n",
    "    check_dir_exist(os.getcwd()+'/user_data/'+str(element)+'/')\n",
    "#     os.mkdir()\n",
    "    for i in products:\n",
    "        files = './train_Capillary_4/images/'+str(i)+'.jpg'\n",
    "#         print(files, './user_data/'+str(element)+'/' + str(i))\n",
    "        \n",
    "        shutil.copy(files, './user_data/'+str(element)+'/' + str(i))\n",
    "    \n",
    "    \n",
    "#     i"
   ]
  },
  {
   "cell_type": "code",
   "execution_count": null,
   "metadata": {},
   "outputs": [],
   "source": []
  }
 ],
 "metadata": {
  "kernelspec": {
   "display_name": "Python 3",
   "language": "python",
   "name": "python3"
  },
  "language_info": {
   "codemirror_mode": {
    "name": "ipython",
    "version": 3
   },
   "file_extension": ".py",
   "mimetype": "text/x-python",
   "name": "python",
   "nbconvert_exporter": "python",
   "pygments_lexer": "ipython3",
   "version": "3.6.6"
  }
 },
 "nbformat": 4,
 "nbformat_minor": 2
}
