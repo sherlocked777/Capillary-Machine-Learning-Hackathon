{
 "cells": [
  {
   "cell_type": "code",
   "execution_count": 1,
   "metadata": {},
   "outputs": [],
   "source": [
    "### This script creates the dataset from the images which is suitable to feed to the autoencoder input. It also resizes the data to 128x128\n",
    "\n",
    "import numpy as np\n",
    "import csv\n",
    "import os\n",
    "import math\n",
    "images_folder_path = './train- Capillary 4/images'\n",
    "import cv2\n",
    "import IPython\n",
    "\n",
    "def resize_image(img, dim):\n",
    "    padding = (img.shape[0] - img.shape[1]) / 2\n",
    "    img=cv2.copyMakeBorder(img, top=0, bottom=0, left=math.floor(padding), right=math.ceil(padding), borderType= cv2.BORDER_CONSTANT, value=[dim,dim,dim])\n",
    "    # print(img.shape)    \n",
    "    resized_img = cv2.resize(img, (dim, dim), interpolation=cv2.INTER_AREA)\n",
    "    return resized_img"
   ]
  },
  {
   "cell_type": "code",
   "execution_count": 2,
   "metadata": {},
   "outputs": [],
   "source": [
    "image_list = os.listdir(images_folder_path)\n",
    "final_images = list()\n",
    "image_id_list = list()\n",
    "for image_name in image_list:\n",
    "    image_id = image_name.split(\".\")[0]\n",
    "    image_id_list.append(int(image_id))\n",
    "    image = cv2.imread(os.path.join(images_folder_path, image_name))\n",
    "    resized_img = resize_image(image, 128)\n",
    "    final_images.append(resized_img)"
   ]
  },
  {
   "cell_type": "code",
   "execution_count": null,
   "metadata": {},
   "outputs": [],
   "source": []
  },
  {
   "cell_type": "code",
   "execution_count": 6,
   "metadata": {},
   "outputs": [],
   "source": [
    "images_dataset = np.stack(final_images)\n",
    "np.save('images_dataset.npy', images_dataset)\n",
    "\n",
    "product_id_file = \"product_image_id_list.csv\"\n",
    "\n",
    "with open(product_id_file, 'w') as myfile:\n",
    "    wr = csv.writer(myfile, quoting=csv.QUOTE_ALL, delimiter='\\n')\n",
    "    wr.writerow(image_id_list)"
   ]
  },
  {
   "cell_type": "code",
   "execution_count": null,
   "metadata": {},
   "outputs": [],
   "source": []
  }
 ],
 "metadata": {
  "kernelspec": {
   "display_name": "Python 3",
   "language": "python",
   "name": "python3"
  },
  "language_info": {
   "codemirror_mode": {
    "name": "ipython",
    "version": 3
   },
   "file_extension": ".py",
   "mimetype": "text/x-python",
   "name": "python",
   "nbconvert_exporter": "python",
   "pygments_lexer": "ipython3",
   "version": "3.6.6"
  }
 },
 "nbformat": 4,
 "nbformat_minor": 2
}
